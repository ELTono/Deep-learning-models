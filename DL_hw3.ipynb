{
 "cells": [
  {
   "cell_type": "markdown",
   "metadata": {
    "colab_type": "text",
    "id": "GHl6N3Xfkctm"
   },
   "source": [
    "# Deep Learning: Homework 3\n",
    "\n",
    "## MNIST as a sequence\n",
    "In this assignment we will be using the [MNIST digit dataset](https://yann.lecun.com/exdb/mnist/). The dataset contains images of hand-written digits ($0-9$), and the corresponding labels. The images have a resolution of $28\\times 28$ pixels. This is the same dataset as in Assignment 1, but we will be using this data a bit differently this time around. Since this assignment will be focusing on recurrent networks that model sequential data, we will be looking at each image as a sequence: the networks you train will be \"reading\" the image one row at a time, from top to bottom (we could even do pixel-by-pixel, but in the interest of time we'll do row-by-row which is faster).  Also, we will work with a binarized version of MNIST -- we constrain the values of the pixels to be either $0$ or $1$. You can do this by applying the method `binarize`, defined below, to the raw images.\n",
    "\n",
    "<img src=\"https://github.com/bodono/files/blob/master/mnist_as_sequence.png?raw=true\">\n",
    "\n",
    "* We take the MNIST images, binarise them, and interpret them as a sequence of pixels from top-left to bottom-right. (\"Task 2\" refers to the next homework, wherein you will be using the sequence for pixel prediction).\n",
    "\n",
    "## Recurrent Models for MNIST\n",
    "\n",
    "As discussed in the lectures, there are various ways and tasks for which we can use recurrent models. A depiction of the most common scenarios is available in the Figure below. In this assignment and the following one we will look at two of these forms: **many-to-one** (sequence to label/decision) and the **many-to-many** scenario where the model receives an input and produces an output at every time step. You will use these to solve the following tasks: i) classification (*this homework*), ii) pixel prediction (*next homework*) and iii) in-painting (*next homework*).\n",
    "\n",
    "<img src=\"https://github.com/bodono/files/blob/master/rnn_models.png?raw=true\">\n",
    "* ([Figure adapted from Karpathy's The Unreasonable Effectiveness of Recurrent Neural Networks](http://karpathy.github.io/2015/05/21/rnn-effectiveness)). You will be implementing variants of *many-to-one* for classification (in this homework), and *many-to-many* for prediction (in the next homework).\n"
   ]
  },
  {
   "cell_type": "markdown",
   "metadata": {
    "colab_type": "text",
    "id": "cqrTk9bLYTpp"
   },
   "source": [
    "## Implementation. Line-by-Line MNIST Classification (50 pts)\n",
    "In this part you will train a number of many-to-one recurrent models that takes as input: an image (or part of an image) as a sequence (row by row) and after the last input row produces, as output, a probability distribution over the $10$ possible labels ($0-9$). The models will be trained using a cross-entropy loss function over these output probabilities.\n",
    "\n",
    "### Optimization\n",
    "Use the Adam optimizer (with default settings other than the learning rate) for training.\n",
    "\n",
    "**[Optional]** Sometimes dropout has been shown to be beneficial in training recurrent models, so feel free to use it or any other form of regularization that seems to improve performance. It might be also worth trying out batch-normalization. [Reference](https://arxiv.org/pdf/1603.09025.pdf).\n",
    "\n",
    "### Models: Your models will have the following structure:\n",
    "1. [(Red Block)] The *input* (current binarised row of pixels) can be fed directly into the recurrent connection without  much further pre-processing. The only thing you need to do is have an affine transformation to match the dimensionality of the recurrent unit, i.e. one of $(32, 64, 128)$.\n",
    "2. [(Blue Block)] The *output* (probabilities over the 10 classes) is produced by looking at the last output of the recurrent units, transforming them via an affine transformation.\n",
    "3. [(Green Block)] For the *recurrent* part of the network, please implement and compare the following architectures:\n",
    "    * LSTM with 32, 64, 128 units. [15 pts]\n",
    "    * GRU with 32, 64, 128 units. [15 pts]\n",
    "    * stacked LSTM: 3 recurrent layers with 32 units each. [10 pts]\n",
    "    * stacked GRU: 3 recurrent layers with 32 units each. [10 pts]\n",
    "\n",
    "Your network should look like:\n",
    "\\begin{equation}\n",
    "\\textrm{Input} \\Rightarrow \\textrm{RNN cell} \\Rightarrow \\textrm{Relu} \\Rightarrow \\textrm{Fully connected} \\Rightarrow \\textrm{Relu} \\Rightarrow \\textrm{Fully connected} \\Rightarrow \\textrm{Output}\n",
    "\\end{equation}\n",
    "You might find the function `tf.nn.dynamic_rnn` useful.\n",
    "\n",
    "### Hyper-parameters \n",
    "For all cases train the model with these hyper-parameter settings:\n",
    "\n",
    "- *num_epochs*=10, *learning_rate*=0.001, *batch_size*=256, *fully_connected_hidden_units=64*\n",
    "\n",
    "With these hyper-parameters you should be comfortably above $95\\%$ test set accuracy on all tasks. (Feel free to try other settings, there are certainly better choices, but please report the results with these exact hyper-parameters). Please report the *cross-entropy* and the *classification accuracy* for the *test set* of the models trained. Use the `plot_summary_table` method below to format the table.\n"
   ]
  },
  {
   "cell_type": "markdown",
   "metadata": {
    "colab_type": "text",
    "id": "3oMPARSkfTO9"
   },
   "source": [
    "## Q3: Analyse the results (20 pts + 10 pts)\n",
    "\n",
    "1. How does this compare with the results you obtained in the first assignment(DL1), when training a model that \"sees\" the entire image at once? Explain differences. [5 pts]\n",
    "2. Let us take a look closer look at one of the trained models: say GRU (32). Plot the outputs of the RNN layer and hidden state over time. In particular, look at the first 3-5 time steps. Plot the input image along side. \n",
    "You can use ```python\n",
    "plt.imshow(output_GRU_over_time)\n",
    "```\n",
    "for these, where ```output_GRU_over_time.shape``` is (T=28,hidden_units) dimensional. What do you observe? Show at least one pair of these plots to support your observation(s). [5 pts]\n",
    "3. Now, look at the last 3-5 time steps. What do you observe? When is the classification decision made? To validate your answer to the second part of the question, provide the classification predictions for the last 5 time steps -- that is, pretend whatever the output of the GRU is at that time step is in fact the last output in the computation, and feed that into the classification mapping. [10 pts] \n",
    "\n",
    "**Word limit:** 500 words or less \n",
    "\n",
    "\n",
    "**[Bonus]** Let's looking inside the computation. Take one of the previous LSTM models (for simplicity pick one of the one-layer recurrence models) and track the status of the gates ($o_t, i_t, f_t$) over time. Note that if you used the provided RNNCell wrappers (BasicLSTMCell and co) in tensorflow, these will keep this information hidden, so you will need to implement your own version of this recurrence layer, or mirror the one in tensorflow, but now exposing these hidden variables. A bit of warning: this is not trivial and will require some thinking on the coding side, but it will also provide you with a more informative way of visulazing the inner computation.  [10 pts]\n",
    "\n",
    "**Word limit:** 300 words or less "
   ]
  },
  {
   "cell_type": "markdown",
   "metadata": {
    "colab_type": "text",
    "id": "xExwwVQPP5ZC"
   },
   "source": [
    "2.-In the first 3-5 time steps, we can observe that the hidden units are s"
   ]
  },
  {
   "cell_type": "markdown",
   "metadata": {
    "colab_type": "text",
    "id": "0wg-OYIMm8cW"
   },
   "source": [
    "# Imports and utility functions (do not modify!)"
   ]
  },
  {
   "cell_type": "code",
   "execution_count": 0,
   "metadata": {
    "colab": {
     "autoexec": {
      "startup": false,
      "wait_interval": 0
     }
    },
    "colab_type": "code",
    "id": "rPYnfzQfltxp"
   },
   "outputs": [],
   "source": [
    "# Import useful libraries.\n",
    "import tensorflow as tf\n",
    "import matplotlib.pyplot as plt\n",
    "from tensorflow.examples.tutorials.mnist import input_data\n",
    "import numpy as np\n",
    "\n",
    "# Binarize the images\n",
    "def binarize(images, threshold=0.1):\n",
    "  return (threshold < images).astype('float32')\n",
    "\n",
    "# Import dataset with one-hot encoding of the class labels.\n",
    "def get_data():\n",
    "  return input_data.read_data_sets(\"MNIST_data/\", one_hot=True)\n",
    "\n",
    "# Placeholders to feed train and test data into the graph.\n",
    "# Since batch dimension is 'None', we can reuse them both for train and eval.\n",
    "def get_placeholders():\n",
    "  x = tf.placeholder(tf.float32, [None, 784])\n",
    "  y = tf.placeholder(tf.float32, [None, 10])\n",
    "  return x, y\n",
    "\n",
    "# Generate summary table of results. This function expects a dict with the\n",
    "# following structure: keys of 'LSTM' or 'GRU' and the values for each key are a\n",
    "# list of tuples consisting of (test_loss, test_accuracy), and the list is\n",
    "# ordered as the results from 32 units, 64 units, 128 units, 3 x 32 units, i.e.:\n",
    "# {\n",
    "#  'LSTM': [(loss,acc), (loss, acc), (loss, acc), (loss, acc)]\n",
    "#  'GRU': [(loss,acc), (loss, acc), (loss, acc), (loss, acc)]\n",
    "# }\n",
    "def plot_summary_table(experiment_results):\n",
    "  # Fill Data.\n",
    "  cell_text = []\n",
    "  columns = ['(1 layer, 32 units)', '(1 layer, 64 units)', '(1 layer, 128 units)', '(3 layers, 32 units)']\n",
    "  for k, v in experiment_results.iteritems():\n",
    "    rows = ['Test loss', 'Test accuracy']\n",
    "    cell_text=[[],[]]\n",
    "    for (l, _) in v:\n",
    "      cell_text[0].append(str(l))\n",
    "    for (_, a) in v:\n",
    "      cell_text[1].append(str(a))\n",
    "\n",
    "    fig=plt.figure(frameon=False)\n",
    "    ax = plt.gca()\n",
    "    the_table = ax.table(\n",
    "      cellText=cell_text,\n",
    "      rowLabels=rows,\n",
    "      colLabels=columns,\n",
    "      loc='center')\n",
    "    the_table.scale(2, 8)\n",
    "    # Prettify.\n",
    "    ax.patch.set_facecolor('None')\n",
    "    ax.xaxis.set_visible(False)\n",
    "    ax.yaxis.set_visible(False)\n",
    "    ax.text(-0.73, 0.9, k, fontsize=18)"
   ]
  },
  {
   "cell_type": "markdown",
   "metadata": {
    "colab_type": "text",
    "id": "a6ecVcTO3xZU"
   },
   "source": [
    "# Train Models\n",
    "\n",
    "Generate summary table of results. This function expects a dict with the\n",
    "following structure: keys of 'LSTM' or 'GRU' and the values for each key are a\n",
    "list of tuples consisting of (test_loss, test_accuracy), and the list is\n",
    "ordered as the results from 32 units, 64 units, 128 units, 3 x 32 units, i.e. expected dictionary (final performace only):\n",
    "\n",
    "```python\n",
    "{\n",
    "  'LSTM': [(loss,acc), (loss, acc), (loss, acc), (loss, acc)]\n",
    "  'GRU': [(loss,acc), (loss, acc), (loss, acc), (loss, acc)]\n",
    "}\n",
    "```"
   ]
  },
  {
   "cell_type": "code",
   "execution_count": 0,
   "metadata": {
    "colab": {
     "autoexec": {
      "startup": false,
      "wait_interval": 0
     }
    },
    "colab_type": "code",
    "id": "sl6RRm2MojBM"
   },
   "outputs": [],
   "source": [
    "## We set the dictionary and settings\n",
    "#experiment_results = {\"LSTM\":[],\"GRU\":[]}\n",
    "\n",
    "settings = [(\"GRU\",32,1),(\"GRU\",64,1),(\"GRU\",128,1),(\"GRU\",32,3),\n",
    "            (\"LSTM\",32,1),(\"LSTM\",64,1),(\"LSTM\",128,1),(\"LSTM\",32,3)]\n",
    "l_rate = 0.001\n",
    "n_epochs = 10\n",
    "batch_size = 256"
   ]
  },
  {
   "cell_type": "code",
   "execution_count": 6,
   "metadata": {
    "colab": {
     "autoexec": {
      "startup": false,
      "wait_interval": 0
     },
     "base_uri": "https://localhost:8080/",
     "height": 445,
     "output_extras": [
      {
       "item_id": 8
      }
     ]
    },
    "colab_type": "code",
    "executionInfo": {
     "elapsed": 70987,
     "status": "ok",
     "timestamp": 1520823824016,
     "user": {
      "displayName": "Antonio Flores Garcia",
      "photoUrl": "https://lh3.googleusercontent.com/a/default-user=s128",
      "userId": "111036820009349743262"
     },
     "user_tz": 360
    },
    "id": "LyZNQvH26R1q",
    "outputId": "63e04dd7-0245-4b96-cf44-dfb44a4be993"
   },
   "outputs": [
    {
     "name": "stdout",
     "output_type": "stream",
     "text": [
      "Successfully downloaded train-images-idx3-ubyte.gz 9912422 bytes.\n",
      "Extracting MNIST_data/train-images-idx3-ubyte.gz\n",
      "Successfully downloaded train-labels-idx1-ubyte.gz 28881 bytes.\n",
      "Extracting MNIST_data/train-labels-idx1-ubyte.gz\n",
      "Successfully downloaded t10k-images-idx3-ubyte.gz 1648877 bytes.\n",
      "Extracting MNIST_data/t10k-images-idx3-ubyte.gz\n",
      "Successfully downloaded t10k-labels-idx1-ubyte.gz 4542 bytes.\n",
      "Extracting MNIST_data/t10k-labels-idx1-ubyte.gz\n",
      "Extracting MNIST_data/train-images-idx3-ubyte.gz\n",
      "Extracting MNIST_data/train-labels-idx1-ubyte.gz\n",
      "Extracting MNIST_data/t10k-images-idx3-ubyte.gz\n",
      "Extracting MNIST_data/t10k-labels-idx1-ubyte.gz\n",
      "WARNING:tensorflow:From <ipython-input-6-8080bf96acde>:26: softmax_cross_entropy_with_logits (from tensorflow.python.ops.nn_ops) is deprecated and will be removed in a future version.\n",
      "Instructions for updating:\n",
      "\n",
      "Future major versions of TensorFlow will allow gradients to flow\n",
      "into the labels input on backprop by default.\n",
      "\n",
      "See tf.nn.softmax_cross_entropy_with_logits_v2.\n",
      "\n",
      "INFO:tensorflow:Graph was finalized.\n",
      "INFO:tensorflow:Running local_init_op.\n",
      "INFO:tensorflow:Done running local_init_op.\n"
     ]
    }
   ],
   "source": [
    "## Models are based in a single code with a list to pass through every setting\n",
    "for (rnn,n_units,n_layers) in settings:\n",
    "     # Reset graph, recreate placeholders and dataset.\n",
    "    #### In this section we set the main model\n",
    "     tf.reset_default_graph()\n",
    "     x, y_ = get_placeholders()\n",
    "     x_image = tf.reshape(x, [-1, 28, 28])\n",
    "     mnist = get_data()\n",
    "     eval_mnist = get_data()\n",
    "     \n",
    "     # We set the model \n",
    "     if rnn == \"LSTM\":\n",
    "         rnn_model =  tf.contrib.rnn.MultiRNNCell([tf.contrib.rnn.BasicLSTMCell(n_units) for i in range(n_layers)])\n",
    "     else:\n",
    "         rnn_model =  tf.contrib.rnn.MultiRNNCell([tf.contrib.rnn.GRUCell(n_units) for i in range(n_layers)])\n",
    "         \n",
    "     outputs, state= tf.nn.dynamic_rnn(rnn_model, x_image, dtype=tf.float32)\n",
    "     new_x = outputs[:,-1,:]\n",
    "     h_relu = tf.nn.relu(new_x)\n",
    "     h1 = tf.layers.dense(inputs = h_relu,units = 64, activation = tf.nn.relu)\n",
    "     h1_relu = tf.nn.relu(h1)\n",
    "     h2 = tf.layers.dense(inputs = h1_relu,units = 64, activation = tf.nn.relu)\n",
    "     out = tf.layers.dense(inputs = h2,units = 10)\n",
    "     \n",
    "     # We set the error, trainer step and accuracy\n",
    "     cross_entropy = tf.reduce_mean(\n",
    "     tf.nn.softmax_cross_entropy_with_logits(labels=y_, logits=out))\n",
    " \n",
    "     train_step = tf.train.AdamOptimizer(learning_rate=l_rate).minimize(cross_entropy)\n",
    "  \n",
    "     correct_prediction = tf.equal(tf.argmax(y_, 1), tf.argmax(out, 1))\n",
    "     correct_prediction = tf.cast(correct_prediction, tf.float32)\n",
    "     accuracy = tf.reduce_mean(correct_prediction)\n",
    "     prediction = tf.argmax(out,1)\n",
    "     \n",
    "     \n",
    "     #### Training session\n",
    "     with tf.train.MonitoredSession() as sess:\n",
    "         while mnist.train.epochs_completed < n_epochs:\n",
    "             # Update.\n",
    "             batch_xs, batch_ys = mnist.train.next_batch(batch_size)\n",
    "             batch_xs_bin = binarize(batch_xs)\n",
    "             #################\n",
    "             # Training step #\n",
    "             #################\n",
    "             sess.run(train_step,feed_dict={x: batch_xs, y_: batch_ys})\n",
    "         \n",
    "         x_test_bin = binarize(mnist.test.images)\n",
    "         test_loss,test_accuracy =  sess.run([cross_entropy,accuracy],feed_dict = {x:x_test_bin,y_:mnist.test.labels})    \n",
    "         #experiment_results[rnn].append((test_loss,test_accuracy))"
   ]
  },
  {
   "cell_type": "code",
   "execution_count": 10,
   "metadata": {
    "colab": {
     "autoexec": {
      "startup": false,
      "wait_interval": 0
     },
     "base_uri": "https://localhost:8080/",
     "height": 34,
     "output_extras": [
      {
       "item_id": 1
      }
     ]
    },
    "colab_type": "code",
    "executionInfo": {
     "elapsed": 365,
     "status": "ok",
     "timestamp": 1520823923916,
     "user": {
      "displayName": "Antonio Flores Garcia",
      "photoUrl": "https://lh3.googleusercontent.com/a/default-user=s128",
      "userId": "111036820009349743262"
     },
     "user_tz": 360
    },
    "id": "7gQY9NP04tQz",
    "outputId": "aa76db58-2fee-4857-a5e6-c35abcb88d8c"
   },
   "outputs": [
    {
     "name": "stdout",
     "output_type": "stream",
     "text": [
      "7\n"
     ]
    }
   ],
   "source": [
    "# Print dict to see the content\n",
    "print(prediction_matrix[0])"
   ]
  },
  {
   "cell_type": "markdown",
   "metadata": {
    "colab_type": "text",
    "id": "hr-L9cZl37ek"
   },
   "source": [
    "#Results"
   ]
  },
  {
   "cell_type": "code",
   "execution_count": 6,
   "metadata": {
    "colab": {
     "autoexec": {
      "startup": false,
      "wait_interval": 0
     },
     "base_uri": "https://localhost:8080/",
     "height": 643,
     "output_extras": [
      {
       "item_id": 1
      },
      {
       "item_id": 2
      }
     ]
    },
    "colab_type": "code",
    "executionInfo": {
     "elapsed": 795,
     "status": "ok",
     "timestamp": 1520701255526,
     "user": {
      "displayName": "Antonio Flores Garcia",
      "photoUrl": "https://lh3.googleusercontent.com/a/default-user=s128",
      "userId": "111036820009349743262"
     },
     "user_tz": 360
    },
    "id": "CtDksStF35Vb",
    "outputId": "9c65f201-443a-4dc3-8e22-6d3c4c87a540"
   },
   "outputs": [
    {
     "data": {
      "image/png": "[encoded data removed]",
      "text/plain": [
       "<matplotlib.figure.Figure at 0x7fbfb3cdf6d0>"
      ]
     },
     "metadata": {
      "tags": []
     },
     "output_type": "display_data"
    },
    {
     "data": {
      "image/png": "[encoded data removed]",
      "text/plain": [
       "<matplotlib.figure.Figure at 0x7fbf69e80710>"
      ]
     },
     "metadata": {
      "tags": []
     },
     "output_type": "display_data"
    }
   ],
   "source": [
    "plot_summary_table(experiment_results)"
   ]
  },
  {
   "cell_type": "markdown",
   "metadata": {
    "colab_type": "text",
    "id": "42qs9_9MFYbj"
   },
   "source": [
    "## Code Question 3"
   ]
  },
  {
   "cell_type": "code",
   "execution_count": 0,
   "metadata": {
    "colab": {
     "autoexec": {
      "startup": false,
      "wait_interval": 0
     }
    },
    "colab_type": "code",
    "id": "NfwY3lfuFUyF"
   },
   "outputs": [],
   "source": [
    "setting_gru = [(\"GRU\",32,1)]\n",
    "l_rate = 0.001\n",
    "n_epochs = 10\n",
    "batch_size = 256\n",
    "\n",
    "## I ran every combination output[:,-5,:], [:,-4,:], etc.."
   ]
  },
  {
   "cell_type": "code",
   "execution_count": 52,
   "metadata": {
    "colab": {
     "autoexec": {
      "startup": false,
      "wait_interval": 0
     },
     "base_uri": "https://localhost:8080/",
     "height": 212,
     "output_extras": [
      {
       "item_id": 5
      }
     ]
    },
    "colab_type": "code",
    "executionInfo": {
     "elapsed": 71963,
     "status": "ok",
     "timestamp": 1520830019272,
     "user": {
      "displayName": "Antonio Flores Garcia",
      "photoUrl": "https://lh3.googleusercontent.com/a/default-user=s128",
      "userId": "111036820009349743262"
     },
     "user_tz": 360
    },
    "id": "ePOulrkHkMZJ",
    "outputId": "4612d07d-be88-412c-c2e9-79048645e1e6"
   },
   "outputs": [
    {
     "name": "stdout",
     "output_type": "stream",
     "text": [
      "Extracting MNIST_data/train-images-idx3-ubyte.gz\n",
      "Extracting MNIST_data/train-labels-idx1-ubyte.gz\n",
      "Extracting MNIST_data/t10k-images-idx3-ubyte.gz\n",
      "Extracting MNIST_data/t10k-labels-idx1-ubyte.gz\n",
      "Extracting MNIST_data/train-images-idx3-ubyte.gz\n",
      "Extracting MNIST_data/train-labels-idx1-ubyte.gz\n",
      "Extracting MNIST_data/t10k-images-idx3-ubyte.gz\n",
      "Extracting MNIST_data/t10k-labels-idx1-ubyte.gz\n",
      "INFO:tensorflow:Graph was finalized.\n",
      "INFO:tensorflow:Running local_init_op.\n",
      "INFO:tensorflow:Done running local_init_op.\n"
     ]
    }
   ],
   "source": [
    "## Models are based in a single code with a list to pass through every setting\n",
    "for (rnn,n_units,n_layers) in setting_gru:\n",
    "     # Reset graph, recreate placeholders and dataset.\n",
    "    #### In this section we set the main model\n",
    "     tf.reset_default_graph()\n",
    "     x, y_ = get_placeholders()\n",
    "     x_image = tf.reshape(x, [-1, 28, 28])\n",
    "     mnist = get_data()\n",
    "     eval_mnist = get_data()\n",
    "     \n",
    "     # We set the model \n",
    "     if rnn == \"LSTM\":\n",
    "         rnn_model =  tf.contrib.rnn.MultiRNNCell([tf.contrib.rnn.BasicLSTMCell(n_units) for i in range(n_layers)])\n",
    "     else:\n",
    "         rnn_model =  tf.contrib.rnn.MultiRNNCell([tf.contrib.rnn.GRUCell(n_units) for i in range(n_layers)])\n",
    "         \n",
    "     outputs, state= tf.nn.dynamic_rnn(rnn_model, x_image, dtype=tf.float32)\n",
    "     new_x = outputs[:,-5,:]\n",
    "     h_relu = tf.nn.relu(new_x)\n",
    "     h1 = tf.layers.dense(inputs = h_relu,units = 64, activation = tf.nn.relu)\n",
    "     h1_relu = tf.nn.relu(h1)\n",
    "     h2 = tf.layers.dense(inputs = h1_relu,units = 64, activation = tf.nn.relu)\n",
    "     out = tf.layers.dense(inputs = h2,units = 10)\n",
    "     \n",
    "     # We set the error, trainer step and accuracy\n",
    "     cross_entropy = tf.reduce_mean(\n",
    "     tf.nn.softmax_cross_entropy_with_logits(labels=y_, logits=out))\n",
    " \n",
    "     train_step = tf.train.AdamOptimizer(learning_rate=l_rate).minimize(cross_entropy)\n",
    "  \n",
    "     correct_prediction = tf.equal(tf.argmax(y_, 1), tf.argmax(out, 1))\n",
    "     correct_prediction = tf.cast(correct_prediction, tf.float32)\n",
    "     accuracy = tf.reduce_mean(correct_prediction)\n",
    "     prediction = tf.argmax(out,1)\n",
    "     \n",
    "     #### Training session\n",
    "     with tf.train.MonitoredSession() as sess:\n",
    "         while mnist.train.epochs_completed < n_epochs:\n",
    "             # Update.\n",
    "             batch_xs, batch_ys = mnist.train.next_batch(batch_size)\n",
    "             batch_xs_bin = binarize(batch_xs)\n",
    "             #################\n",
    "             # Training step #\n",
    "             #################\n",
    "             sess.run(train_step,feed_dict={x: batch_xs, y_: batch_ys})\n",
    "         \n",
    "         x_test_bin = binarize(mnist.test.images)\n",
    "         test_loss,test_accuracy,output_GRU_over_time,binarized_image,prediction_matrix =  sess.run([cross_entropy,accuracy,outputs,x_image,prediction],\n",
    "                                                                                                    feed_dict = {x:x_test_bin,y_:mnist.test.labels}) \n",
    "         p = prediction_matrix[0]"
   ]
  },
  {
   "cell_type": "code",
   "execution_count": 53,
   "metadata": {
    "colab": {
     "autoexec": {
      "startup": false,
      "wait_interval": 0
     },
     "base_uri": "https://localhost:8080/",
     "height": 105,
     "output_extras": [
      {
       "item_id": 1
      }
     ]
    },
    "colab_type": "code",
    "executionInfo": {
     "elapsed": 501,
     "status": "ok",
     "timestamp": 1520830056260,
     "user": {
      "displayName": "Antonio Flores Garcia",
      "photoUrl": "https://lh3.googleusercontent.com/a/default-user=s128",
      "userId": "111036820009349743262"
     },
     "user_tz": 360
    },
    "id": "RMwvYsuJLw_a",
    "outputId": "2c4a7fa4-bf69-4606-cd50-83199c21e8af"
   },
   "outputs": [
    {
     "name": "stdout",
     "output_type": "stream",
     "text": [
      "0\n",
      "0\n",
      "0\n",
      "0\n",
      "0\n"
     ]
    }
   ],
   "source": [
    "#prediction_step_1 = prediction_matrix\n",
    "print(prediction_step_1[3])\n",
    "\n",
    "#prediction_step_2 = prediction_matrix\n",
    "print(prediction_step_2[3])\n",
    "\n",
    "#prediction_step_3 = prediction_matrix\n",
    "print(prediction_step_3[3])\n",
    "\n",
    "#prediction_step_4 = prediction_matrix\n",
    "print(prediction_step_4[3])\n",
    "\n",
    "prediction_step_5 = prediction_matrix\n",
    "print(prediction_step_5[3])\n",
    "\n"
   ]
  },
  {
   "cell_type": "markdown",
   "metadata": {
    "colab_type": "text",
    "id": "HdIbh48gDZg9"
   },
   "source": [
    "# Analysis of results"
   ]
  },
  {
   "cell_type": "code",
   "execution_count": 0,
   "metadata": {
    "colab": {
     "autoexec": {
      "startup": false,
      "wait_interval": 0
     }
    },
    "colab_type": "code",
    "id": "h59UKU9QgHIE"
   },
   "outputs": [],
   "source": [
    "output_GRU_over_time_2 = output_GRU_over_time[3,:,:]\n",
    "binarized_input_image = binarized_image[3,:,:]"
   ]
  },
  {
   "cell_type": "code",
   "execution_count": 39,
   "metadata": {
    "colab": {
     "autoexec": {
      "startup": false,
      "wait_interval": 0
     },
     "base_uri": "https://localhost:8080/",
     "height": 897,
     "output_extras": [
      {
       "item_id": 1
      },
      {
       "item_id": 2
      },
      {
       "item_id": 3
      },
      {
       "item_id": 4
      },
      {
       "item_id": 5
      }
     ]
    },
    "colab_type": "code",
    "executionInfo": {
     "elapsed": 669,
     "status": "ok",
     "timestamp": 1520829258730,
     "user": {
      "displayName": "Antonio Flores Garcia",
      "photoUrl": "https://lh3.googleusercontent.com/a/default-user=s128",
      "userId": "111036820009349743262"
     },
     "user_tz": 360
    },
    "id": "T-FjRrdSWbv4",
    "outputId": "9b5c7bd5-c3fd-4394-c8b3-74487ab782e0"
   },
   "outputs": [
    {
     "data": {
      "image/png": "[encoded data removed]",
      "text/plain": [
       "<matplotlib.figure.Figure at 0x7fd4a92736d0>"
      ]
     },
     "metadata": {
      "tags": []
     },
     "output_type": "display_data"
    },
    {
     "data": {
      "image/png": "[encoded data removed]",
      "text/plain": [
       "<matplotlib.figure.Figure at 0x7fd4a872fb50>"
      ]
     },
     "metadata": {
      "tags": []
     },
     "output_type": "display_data"
    },
    {
     "data": {
      "image/png": "[encoded data removed]",
      "text/plain": [
       "<matplotlib.figure.Figure at 0x7fd4a8c253d0>"
      ]
     },
     "metadata": {
      "tags": []
     },
     "output_type": "display_data"
    },
    {
     "data": {
      "text/plain": [
       "<matplotlib.image.AxesImage at 0x7fd4a8ce3c50>"
      ]
     },
     "execution_count": 39,
     "metadata": {
      "tags": []
     },
     "output_type": "execute_result"
    },
    {
     "data": {
      "image/png": "[encoded data removed]",
      "text/plain": [
       "<matplotlib.figure.Figure at 0x7fd4a8ac2dd0>"
      ]
     },
     "metadata": {
      "tags": []
     },
     "output_type": "display_data"
    }
   ],
   "source": [
    "# Look into the GRU computation over time\n",
    "\n",
    "# plot one sample over time\n",
    "plt.imshow(output_GRU_over_time_2,cmap = \"Greys\")\n",
    "plt.show()\n",
    "plt.imshow(binarized_input_image,cmap = \"Greys\")\n",
    "\n",
    "# Feel free to pick a sample from the dataset that more closely supports your \n",
    "# answers in Q3.\n",
    "\n",
    "# first 5 steps in the computation\n",
    "plt.show()\n",
    "plt.imshow(output_GRU_over_time_2[:5,:],cmap = \"Greys\")\n",
    "\n",
    "# last 5 steps in the computation\n",
    "plt.show()\n",
    "plt.imshow(output_GRU_over_time_2[-5:,:],cmap = \"Greys\")"
   ]
  },
  {
   "cell_type": "code",
   "execution_count": 0,
   "metadata": {
    "colab": {
     "autoexec": {
      "startup": false,
      "wait_interval": 0
     }
    },
    "colab_type": "code",
    "id": "-Yke5YXO6emI"
   },
   "outputs": [],
   "source": []
  }
 ],
 "metadata": {
  "accelerator": "GPU",
  "colab": {
   "collapsed_sections": [],
   "default_view": {},
   "name": "17063268_DL_hw3.ipynb",
   "provenance": [
    {
     "file_id": "1rIaB6u2aCySDUkP0qdFyfZl0_tOLGWGb",
     "timestamp": 1518198218611
    },
    {
     "file_id": "1OsB2DpNo1-NciDOlB5Vrk2YE7zMl8Hds",
     "timestamp": 1518116978983
    },
    {
     "file_id": "1yFj1LZ7MPleNtBFX6NS9i1zwZ74huXrQ",
     "timestamp": 1517308250935
    }
   ],
   "version": "0.3.2",
   "views": {}
  },
  "kernelspec": {
   "display_name": "Python 3",
   "language": "python",
   "name": "python3"
  },
  "language_info": {
   "codemirror_mode": {
    "name": "ipython",
    "version": 3
   },
   "file_extension": ".py",
   "mimetype": "text/x-python",
   "name": "python",
   "nbconvert_exporter": "python",
   "pygments_lexer": "ipython3",
   "version": "3.5.4"
  }
 },
 "nbformat": 4,
 "nbformat_minor": 1
}
